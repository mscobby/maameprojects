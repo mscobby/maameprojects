{
    "cells": [
        {
            "cell_type": "markdown",
            "metadata": {},
            "source": "EXCELSA 2019 SALES"
        },
        {
            "cell_type": "code",
            "execution_count": 1,
            "metadata": {},
            "outputs": [
                {
                    "data": {
                        "text/html": "<div>\n<style scoped>\n    .dataframe tbody tr th:only-of-type {\n        vertical-align: middle;\n    }\n\n    .dataframe tbody tr th {\n        vertical-align: top;\n    }\n\n    .dataframe thead th {\n        text-align: right;\n    }\n</style>\n<table border=\"1\" class=\"dataframe\">\n  <thead>\n    <tr style=\"text-align: right;\">\n      <th></th>\n      <th>Unnamed: 0</th>\n      <th>Unnamed: 1</th>\n      <th>Unnamed: 2</th>\n      <th>Unnamed: 3</th>\n      <th>YEAR TO DATE INCOME OVERVIEW</th>\n      <th>Unnamed: 5</th>\n      <th>Unnamed: 6</th>\n      <th>Unnamed: 7</th>\n      <th>Unnamed: 8</th>\n    </tr>\n  </thead>\n  <tbody>\n    <tr>\n      <th>0</th>\n      <td>MONTH</td>\n      <td>ACCOMODATION\\n SALES</td>\n      <td>CONFERENCE\\n SALES</td>\n      <td>RESTAURANT\\n SALES</td>\n      <td>BAR\\n SALES</td>\n      <td>POOL\\n  SALES</td>\n      <td>HIRING</td>\n      <td>MISCELLA</td>\n      <td>MONTHLY TOTAL</td>\n    </tr>\n    <tr>\n      <th>1</th>\n      <td>JAN</td>\n      <td>6980</td>\n      <td>864</td>\n      <td>2433</td>\n      <td>1715</td>\n      <td>3256</td>\n      <td>0</td>\n      <td>50</td>\n      <td>15298</td>\n    </tr>\n    <tr>\n      <th>2</th>\n      <td>FEB</td>\n      <td>10200</td>\n      <td>58300</td>\n      <td>26792</td>\n      <td>3282</td>\n      <td>1401</td>\n      <td>0</td>\n      <td>0</td>\n      <td>99975</td>\n    </tr>\n    <tr>\n      <th>3</th>\n      <td>MARCH</td>\n      <td>12095</td>\n      <td>34800</td>\n      <td>9345</td>\n      <td>2117</td>\n      <td>2355</td>\n      <td>0</td>\n      <td>1500</td>\n      <td>62212</td>\n    </tr>\n    <tr>\n      <th>4</th>\n      <td>APR</td>\n      <td>5900</td>\n      <td>44210</td>\n      <td>4080</td>\n      <td>2224</td>\n      <td>2113</td>\n      <td>0</td>\n      <td>70</td>\n      <td>58597</td>\n    </tr>\n  </tbody>\n</table>\n</div>",
                        "text/plain": "  Unnamed: 0            Unnamed: 1           Unnamed: 2          Unnamed: 3  \\\n0      MONTH  ACCOMODATION\\n SALES  CONFERENCE\\n SALES   RESTAURANT\\n SALES   \n1        JAN                  6980                  864                2433   \n2        FEB                 10200                58300               26792   \n3      MARCH                 12095                34800                9345   \n4        APR                  5900                44210                4080   \n\n  YEAR TO DATE INCOME OVERVIEW     Unnamed: 5 Unnamed: 6 Unnamed: 7  \\\n0                  BAR\\n SALES  POOL\\n  SALES     HIRING   MISCELLA   \n1                         1715           3256          0         50   \n2                         3282           1401          0          0   \n3                         2117           2355          0       1500   \n4                         2224           2113          0         70   \n\n      Unnamed: 8  \n0  MONTHLY TOTAL  \n1          15298  \n2          99975  \n3          62212  \n4          58597  "
                    },
                    "execution_count": 1,
                    "metadata": {},
                    "output_type": "execute_result"
                }
            ],
            "source": "# The code was removed by Watson Studio for sharing."
        },
        {
            "cell_type": "code",
            "execution_count": null,
            "metadata": {},
            "outputs": [],
            "source": ""
        }
    ],
    "metadata": {
        "kernelspec": {
            "display_name": "Python 3.6",
            "language": "python",
            "name": "python3"
        },
        "language_info": {
            "codemirror_mode": {
                "name": "ipython",
                "version": 3
            },
            "file_extension": ".py",
            "mimetype": "text/x-python",
            "name": "python",
            "nbconvert_exporter": "python",
            "pygments_lexer": "ipython3",
            "version": "3.6.9"
        }
    },
    "nbformat": 4,
    "nbformat_minor": 1
}